{
 "cells": [
  {
   "cell_type": "markdown",
   "id": "59063c2b",
   "metadata": {},
   "source": [
    "# IBM Data Analyst Capstone Project\n"
   ]
  },
  {
   "cell_type": "markdown",
   "id": "d7c186cf",
   "metadata": {},
   "source": [
    "This project, based on the **IBM Data Analyst Professional Certification** from Coursera, simulates the role of a Data Analyst at a global IT consulting firm. The goal is to analyze data and identify emerging skills necessary to remain competitive in the IT industry. Using the **2019 Stack Overflow Developer Survey** dataset, approximately 10% of the 90,000 respondents were analyzed to extract insights and guide strategic decisions.\n",
    "\n",
    "\n",
    "For more information about the survey, [click here](https://survey.stackoverflow.co/2019). \n",
    "\n",
    "#### Objective:\n",
    "* Exploring Data\n",
    "* Data Wrangling\n",
    "* Exploritory Data Analysis\n",
    "* Data Visualization\n"
   ]
  },
  {
   "cell_type": "code",
   "execution_count": 5,
   "id": "807904cd",
   "metadata": {},
   "outputs": [
    {
     "name": "stdout",
     "output_type": "stream",
     "text": [
      "Requirement already satisfied: bottleneck in c:\\users\\niman\\anaconda3\\lib\\site-packages (1.4.0)Note: you may need to restart the kernel to use updated packages.\n",
      "\n",
      "Requirement already satisfied: numpy in c:\\users\\niman\\anaconda3\\lib\\site-packages (from bottleneck) (1.24.3)\n"
     ]
    }
   ],
   "source": [
    "pip install --upgrade bottleneck"
   ]
  },
  {
   "cell_type": "code",
   "execution_count": 6,
   "id": "0a8fe762",
   "metadata": {},
   "outputs": [],
   "source": [
    "# import required libraries\n",
    "import pandas as pd\n",
    "import numpy as np"
   ]
  },
  {
   "cell_type": "code",
   "execution_count": 7,
   "id": "80410c27",
   "metadata": {},
   "outputs": [
    {
     "data": {
      "text/html": [
       "<div>\n",
       "<style scoped>\n",
       "    .dataframe tbody tr th:only-of-type {\n",
       "        vertical-align: middle;\n",
       "    }\n",
       "\n",
       "    .dataframe tbody tr th {\n",
       "        vertical-align: top;\n",
       "    }\n",
       "\n",
       "    .dataframe thead th {\n",
       "        text-align: right;\n",
       "    }\n",
       "</style>\n",
       "<table border=\"1\" class=\"dataframe\">\n",
       "  <thead>\n",
       "    <tr style=\"text-align: right;\">\n",
       "      <th></th>\n",
       "      <th>Respondent</th>\n",
       "      <th>MainBranch</th>\n",
       "      <th>Hobbyist</th>\n",
       "      <th>OpenSourcer</th>\n",
       "      <th>OpenSource</th>\n",
       "      <th>Employment</th>\n",
       "      <th>Country</th>\n",
       "      <th>Student</th>\n",
       "      <th>EdLevel</th>\n",
       "      <th>UndergradMajor</th>\n",
       "      <th>...</th>\n",
       "      <th>WelcomeChange</th>\n",
       "      <th>SONewContent</th>\n",
       "      <th>Age</th>\n",
       "      <th>Gender</th>\n",
       "      <th>Trans</th>\n",
       "      <th>Sexuality</th>\n",
       "      <th>Ethnicity</th>\n",
       "      <th>Dependents</th>\n",
       "      <th>SurveyLength</th>\n",
       "      <th>SurveyEase</th>\n",
       "    </tr>\n",
       "  </thead>\n",
       "  <tbody>\n",
       "    <tr>\n",
       "      <th>0</th>\n",
       "      <td>4</td>\n",
       "      <td>I am a developer by profession</td>\n",
       "      <td>No</td>\n",
       "      <td>Never</td>\n",
       "      <td>The quality of OSS and closed source software ...</td>\n",
       "      <td>Employed full-time</td>\n",
       "      <td>United States</td>\n",
       "      <td>No</td>\n",
       "      <td>Bachelor’s degree (BA, BS, B.Eng., etc.)</td>\n",
       "      <td>Computer science, computer engineering, or sof...</td>\n",
       "      <td>...</td>\n",
       "      <td>Just as welcome now as I felt last year</td>\n",
       "      <td>Tech articles written by other developers;Indu...</td>\n",
       "      <td>22.0</td>\n",
       "      <td>Man</td>\n",
       "      <td>No</td>\n",
       "      <td>Straight / Heterosexual</td>\n",
       "      <td>White or of European descent</td>\n",
       "      <td>No</td>\n",
       "      <td>Appropriate in length</td>\n",
       "      <td>Easy</td>\n",
       "    </tr>\n",
       "    <tr>\n",
       "      <th>1</th>\n",
       "      <td>9</td>\n",
       "      <td>I am a developer by profession</td>\n",
       "      <td>Yes</td>\n",
       "      <td>Once a month or more often</td>\n",
       "      <td>The quality of OSS and closed source software ...</td>\n",
       "      <td>Employed full-time</td>\n",
       "      <td>New Zealand</td>\n",
       "      <td>No</td>\n",
       "      <td>Some college/university study without earning ...</td>\n",
       "      <td>Computer science, computer engineering, or sof...</td>\n",
       "      <td>...</td>\n",
       "      <td>Just as welcome now as I felt last year</td>\n",
       "      <td>NaN</td>\n",
       "      <td>23.0</td>\n",
       "      <td>Man</td>\n",
       "      <td>No</td>\n",
       "      <td>Bisexual</td>\n",
       "      <td>White or of European descent</td>\n",
       "      <td>No</td>\n",
       "      <td>Appropriate in length</td>\n",
       "      <td>Neither easy nor difficult</td>\n",
       "    </tr>\n",
       "    <tr>\n",
       "      <th>2</th>\n",
       "      <td>13</td>\n",
       "      <td>I am a developer by profession</td>\n",
       "      <td>Yes</td>\n",
       "      <td>Less than once a month but more than once per ...</td>\n",
       "      <td>OSS is, on average, of HIGHER quality than pro...</td>\n",
       "      <td>Employed full-time</td>\n",
       "      <td>United States</td>\n",
       "      <td>No</td>\n",
       "      <td>Master’s degree (MA, MS, M.Eng., MBA, etc.)</td>\n",
       "      <td>Computer science, computer engineering, or sof...</td>\n",
       "      <td>...</td>\n",
       "      <td>Somewhat more welcome now than last year</td>\n",
       "      <td>Tech articles written by other developers;Cour...</td>\n",
       "      <td>28.0</td>\n",
       "      <td>Man</td>\n",
       "      <td>No</td>\n",
       "      <td>Straight / Heterosexual</td>\n",
       "      <td>White or of European descent</td>\n",
       "      <td>Yes</td>\n",
       "      <td>Appropriate in length</td>\n",
       "      <td>Easy</td>\n",
       "    </tr>\n",
       "    <tr>\n",
       "      <th>3</th>\n",
       "      <td>16</td>\n",
       "      <td>I am a developer by profession</td>\n",
       "      <td>Yes</td>\n",
       "      <td>Never</td>\n",
       "      <td>The quality of OSS and closed source software ...</td>\n",
       "      <td>Employed full-time</td>\n",
       "      <td>United Kingdom</td>\n",
       "      <td>No</td>\n",
       "      <td>Master’s degree (MA, MS, M.Eng., MBA, etc.)</td>\n",
       "      <td>NaN</td>\n",
       "      <td>...</td>\n",
       "      <td>Just as welcome now as I felt last year</td>\n",
       "      <td>Tech articles written by other developers;Indu...</td>\n",
       "      <td>26.0</td>\n",
       "      <td>Man</td>\n",
       "      <td>No</td>\n",
       "      <td>Straight / Heterosexual</td>\n",
       "      <td>White or of European descent</td>\n",
       "      <td>No</td>\n",
       "      <td>Appropriate in length</td>\n",
       "      <td>Neither easy nor difficult</td>\n",
       "    </tr>\n",
       "    <tr>\n",
       "      <th>4</th>\n",
       "      <td>17</td>\n",
       "      <td>I am a developer by profession</td>\n",
       "      <td>Yes</td>\n",
       "      <td>Less than once a month but more than once per ...</td>\n",
       "      <td>The quality of OSS and closed source software ...</td>\n",
       "      <td>Employed full-time</td>\n",
       "      <td>Australia</td>\n",
       "      <td>No</td>\n",
       "      <td>Bachelor’s degree (BA, BS, B.Eng., etc.)</td>\n",
       "      <td>Computer science, computer engineering, or sof...</td>\n",
       "      <td>...</td>\n",
       "      <td>Just as welcome now as I felt last year</td>\n",
       "      <td>Tech articles written by other developers;Indu...</td>\n",
       "      <td>29.0</td>\n",
       "      <td>Man</td>\n",
       "      <td>No</td>\n",
       "      <td>Straight / Heterosexual</td>\n",
       "      <td>Hispanic or Latino/Latina;Multiracial</td>\n",
       "      <td>No</td>\n",
       "      <td>Appropriate in length</td>\n",
       "      <td>Easy</td>\n",
       "    </tr>\n",
       "  </tbody>\n",
       "</table>\n",
       "<p>5 rows × 85 columns</p>\n",
       "</div>"
      ],
      "text/plain": [
       "   Respondent                      MainBranch Hobbyist  \\\n",
       "0           4  I am a developer by profession       No   \n",
       "1           9  I am a developer by profession      Yes   \n",
       "2          13  I am a developer by profession      Yes   \n",
       "3          16  I am a developer by profession      Yes   \n",
       "4          17  I am a developer by profession      Yes   \n",
       "\n",
       "                                         OpenSourcer  \\\n",
       "0                                              Never   \n",
       "1                         Once a month or more often   \n",
       "2  Less than once a month but more than once per ...   \n",
       "3                                              Never   \n",
       "4  Less than once a month but more than once per ...   \n",
       "\n",
       "                                          OpenSource          Employment  \\\n",
       "0  The quality of OSS and closed source software ...  Employed full-time   \n",
       "1  The quality of OSS and closed source software ...  Employed full-time   \n",
       "2  OSS is, on average, of HIGHER quality than pro...  Employed full-time   \n",
       "3  The quality of OSS and closed source software ...  Employed full-time   \n",
       "4  The quality of OSS and closed source software ...  Employed full-time   \n",
       "\n",
       "          Country Student                                            EdLevel  \\\n",
       "0   United States      No           Bachelor’s degree (BA, BS, B.Eng., etc.)   \n",
       "1     New Zealand      No  Some college/university study without earning ...   \n",
       "2   United States      No        Master’s degree (MA, MS, M.Eng., MBA, etc.)   \n",
       "3  United Kingdom      No        Master’s degree (MA, MS, M.Eng., MBA, etc.)   \n",
       "4       Australia      No           Bachelor’s degree (BA, BS, B.Eng., etc.)   \n",
       "\n",
       "                                      UndergradMajor  ...  \\\n",
       "0  Computer science, computer engineering, or sof...  ...   \n",
       "1  Computer science, computer engineering, or sof...  ...   \n",
       "2  Computer science, computer engineering, or sof...  ...   \n",
       "3                                                NaN  ...   \n",
       "4  Computer science, computer engineering, or sof...  ...   \n",
       "\n",
       "                              WelcomeChange  \\\n",
       "0   Just as welcome now as I felt last year   \n",
       "1   Just as welcome now as I felt last year   \n",
       "2  Somewhat more welcome now than last year   \n",
       "3   Just as welcome now as I felt last year   \n",
       "4   Just as welcome now as I felt last year   \n",
       "\n",
       "                                        SONewContent   Age Gender Trans  \\\n",
       "0  Tech articles written by other developers;Indu...  22.0    Man    No   \n",
       "1                                                NaN  23.0    Man    No   \n",
       "2  Tech articles written by other developers;Cour...  28.0    Man    No   \n",
       "3  Tech articles written by other developers;Indu...  26.0    Man    No   \n",
       "4  Tech articles written by other developers;Indu...  29.0    Man    No   \n",
       "\n",
       "                 Sexuality                              Ethnicity Dependents  \\\n",
       "0  Straight / Heterosexual           White or of European descent         No   \n",
       "1                 Bisexual           White or of European descent         No   \n",
       "2  Straight / Heterosexual           White or of European descent        Yes   \n",
       "3  Straight / Heterosexual           White or of European descent         No   \n",
       "4  Straight / Heterosexual  Hispanic or Latino/Latina;Multiracial         No   \n",
       "\n",
       "            SurveyLength                  SurveyEase  \n",
       "0  Appropriate in length                        Easy  \n",
       "1  Appropriate in length  Neither easy nor difficult  \n",
       "2  Appropriate in length                        Easy  \n",
       "3  Appropriate in length  Neither easy nor difficult  \n",
       "4  Appropriate in length                        Easy  \n",
       "\n",
       "[5 rows x 85 columns]"
      ]
     },
     "execution_count": 7,
     "metadata": {},
     "output_type": "execute_result"
    }
   ],
   "source": [
    "#import data\n",
    "url = \"https://cf-courses-data.s3.us.cloud-object-storage.appdomain.cloud/IBM-DA0321EN-SkillsNetwork/LargeData/m1_survey_data.csv\"\n",
    "df = pd.read_csv(url)\n",
    "df.head()"
   ]
  },
  {
   "cell_type": "markdown",
   "id": "1ea39fbc",
   "metadata": {},
   "source": [
    "### Exploring Data:"
   ]
  },
  {
   "cell_type": "code",
   "execution_count": 8,
   "id": "348d333b",
   "metadata": {},
   "outputs": [
    {
     "data": {
      "text/plain": [
       "(11552, 85)"
      ]
     },
     "execution_count": 8,
     "metadata": {},
     "output_type": "execute_result"
    }
   ],
   "source": [
    "# check data dimensions\n",
    "df.shape"
   ]
  },
  {
   "cell_type": "code",
   "execution_count": 9,
   "id": "c2c59fc8",
   "metadata": {},
   "outputs": [
    {
     "data": {
      "text/plain": [
       "Respondent       int64\n",
       "MainBranch      object\n",
       "Hobbyist        object\n",
       "OpenSourcer     object\n",
       "OpenSource      object\n",
       "                 ...  \n",
       "Sexuality       object\n",
       "Ethnicity       object\n",
       "Dependents      object\n",
       "SurveyLength    object\n",
       "SurveyEase      object\n",
       "Length: 85, dtype: object"
      ]
     },
     "execution_count": 9,
     "metadata": {},
     "output_type": "execute_result"
    }
   ],
   "source": [
    "# indentify  data types of each column\n",
    "df.dtypes"
   ]
  },
  {
   "cell_type": "code",
   "execution_count": 10,
   "id": "91c39ff3",
   "metadata": {},
   "outputs": [
    {
     "data": {
      "text/plain": [
       "135"
      ]
     },
     "execution_count": 10,
     "metadata": {},
     "output_type": "execute_result"
    }
   ],
   "source": [
    "# Show how many countries participated in the survey\n",
    "df['Country'].nunique()"
   ]
  },
  {
   "cell_type": "markdown",
   "id": "b14ffe0c",
   "metadata": {},
   "source": [
    "### Data Wrangling:"
   ]
  },
  {
   "cell_type": "code",
   "execution_count": 11,
   "id": "f5187b57",
   "metadata": {},
   "outputs": [
    {
     "data": {
      "text/plain": [
       "154"
      ]
     },
     "execution_count": 11,
     "metadata": {},
     "output_type": "execute_result"
    }
   ],
   "source": [
    "# Find  duplicate rows \n",
    "df.duplicated().sum()"
   ]
  },
  {
   "cell_type": "code",
   "execution_count": 12,
   "id": "8aca8d24",
   "metadata": {},
   "outputs": [],
   "source": [
    "# Remove duplicate rows\n",
    "df.drop_duplicates(inplace=True)"
   ]
  },
  {
   "cell_type": "code",
   "execution_count": 13,
   "id": "50ac77ad",
   "metadata": {},
   "outputs": [
    {
     "data": {
      "text/plain": [
       "0"
      ]
     },
     "execution_count": 13,
     "metadata": {},
     "output_type": "execute_result"
    }
   ],
   "source": [
    "df.duplicated().sum()"
   ]
  },
  {
   "cell_type": "code",
   "execution_count": 14,
   "id": "efaddb1a",
   "metadata": {},
   "outputs": [
    {
     "name": "stdout",
     "output_type": "stream",
     "text": [
      "Respondent        0\n",
      "MainBranch        0\n",
      "Hobbyist          0\n",
      "OpenSourcer       0\n",
      "OpenSource       81\n",
      "               ... \n",
      "Sexuality       542\n",
      "Ethnicity       675\n",
      "Dependents      140\n",
      "SurveyLength     19\n",
      "SurveyEase       14\n",
      "Length: 85, dtype: int64\n"
     ]
    }
   ],
   "source": [
    "# Find  missing values for all columns\n",
    "print(df.isnull().sum())"
   ]
  },
  {
   "cell_type": "code",
   "execution_count": 15,
   "id": "c502206f",
   "metadata": {},
   "outputs": [
    {
     "data": {
      "text/plain": [
       "32"
      ]
     },
     "execution_count": 15,
     "metadata": {},
     "output_type": "execute_result"
    }
   ],
   "source": [
    "# Find the number of missing values in the 'WorkLoc' column\n",
    "df['WorkLoc'].isnull().sum()"
   ]
  },
  {
   "cell_type": "code",
   "execution_count": 16,
   "id": "3d8ddc6a",
   "metadata": {},
   "outputs": [
    {
     "data": {
      "text/html": [
       "<div>\n",
       "<style scoped>\n",
       "    .dataframe tbody tr th:only-of-type {\n",
       "        vertical-align: middle;\n",
       "    }\n",
       "\n",
       "    .dataframe tbody tr th {\n",
       "        vertical-align: top;\n",
       "    }\n",
       "\n",
       "    .dataframe thead th {\n",
       "        text-align: right;\n",
       "    }\n",
       "</style>\n",
       "<table border=\"1\" class=\"dataframe\">\n",
       "  <thead>\n",
       "    <tr style=\"text-align: right;\">\n",
       "      <th></th>\n",
       "      <th>count</th>\n",
       "    </tr>\n",
       "    <tr>\n",
       "      <th>WorkLoc</th>\n",
       "      <th></th>\n",
       "    </tr>\n",
       "  </thead>\n",
       "  <tbody>\n",
       "    <tr>\n",
       "      <th>Office</th>\n",
       "      <td>6806</td>\n",
       "    </tr>\n",
       "    <tr>\n",
       "      <th>Home</th>\n",
       "      <td>3589</td>\n",
       "    </tr>\n",
       "    <tr>\n",
       "      <th>Other place, such as a coworking space or cafe</th>\n",
       "      <td>971</td>\n",
       "    </tr>\n",
       "  </tbody>\n",
       "</table>\n",
       "</div>"
      ],
      "text/plain": [
       "                                                count\n",
       "WorkLoc                                              \n",
       "Office                                           6806\n",
       "Home                                             3589\n",
       "Other place, such as a coworking space or cafe    971"
      ]
     },
     "execution_count": 16,
     "metadata": {},
     "output_type": "execute_result"
    }
   ],
   "source": [
    "# Find the value counts of  'WorkLoc' column\n",
    "df['WorkLoc'].value_counts().to_frame()"
   ]
  },
  {
   "cell_type": "code",
   "execution_count": 17,
   "id": "61aff780",
   "metadata": {},
   "outputs": [],
   "source": [
    "# Impute missing values in 'WorkLoc' with the most frequent value  \n",
    "mode = df['WorkLoc'].mode()[0]\n",
    "df['WorkLoc'] = df['WorkLoc'].replace(np.nan, mode)"
   ]
  },
  {
   "cell_type": "code",
   "execution_count": 18,
   "id": "b4acdd37",
   "metadata": {},
   "outputs": [
    {
     "data": {
      "text/plain": [
       "0"
      ]
     },
     "execution_count": 18,
     "metadata": {},
     "output_type": "execute_result"
    }
   ],
   "source": [
    "df['WorkLoc'].isnull().sum()"
   ]
  },
  {
   "cell_type": "code",
   "execution_count": 19,
   "id": "e5ce49e2",
   "metadata": {},
   "outputs": [
    {
     "data": {
      "text/html": [
       "<div>\n",
       "<style scoped>\n",
       "    .dataframe tbody tr th:only-of-type {\n",
       "        vertical-align: middle;\n",
       "    }\n",
       "\n",
       "    .dataframe tbody tr th {\n",
       "        vertical-align: top;\n",
       "    }\n",
       "\n",
       "    .dataframe thead th {\n",
       "        text-align: right;\n",
       "    }\n",
       "</style>\n",
       "<table border=\"1\" class=\"dataframe\">\n",
       "  <thead>\n",
       "    <tr style=\"text-align: right;\">\n",
       "      <th></th>\n",
       "      <th>count</th>\n",
       "    </tr>\n",
       "    <tr>\n",
       "      <th>WorkLoc</th>\n",
       "      <th></th>\n",
       "    </tr>\n",
       "  </thead>\n",
       "  <tbody>\n",
       "    <tr>\n",
       "      <th>Office</th>\n",
       "      <td>6838</td>\n",
       "    </tr>\n",
       "    <tr>\n",
       "      <th>Home</th>\n",
       "      <td>3589</td>\n",
       "    </tr>\n",
       "    <tr>\n",
       "      <th>Other place, such as a coworking space or cafe</th>\n",
       "      <td>971</td>\n",
       "    </tr>\n",
       "  </tbody>\n",
       "</table>\n",
       "</div>"
      ],
      "text/plain": [
       "                                                count\n",
       "WorkLoc                                              \n",
       "Office                                           6838\n",
       "Home                                             3589\n",
       "Other place, such as a coworking space or cafe    971"
      ]
     },
     "execution_count": 19,
     "metadata": {},
     "output_type": "execute_result"
    }
   ],
   "source": [
    "df['WorkLoc'].value_counts().to_frame()"
   ]
  },
  {
   "cell_type": "markdown",
   "id": "295dcee4",
   "metadata": {},
   "source": [
    "#### Compensation Data Normalization:\n",
    "The dataset contains two columns related to compensation: **'CompFreq'** (frequency of payment) and **'CompTotal'** (total compensation). To compare developer compensation across different payment frequencies (yearly, monthly, weekly), a new column, **'NormalizedAnnualCompensation'**, is created.\n",
    "We use the below logic to arrive at the values for the column NormalizedAnnualCompensation.\n",
    "\n",
    "* If the CompFreq is Yearly then use the exising value in CompTotal\n",
    "* If the CompFreq is Monthly then multiply the value in CompTotal with 12 (months in an year)\n",
    "* If the CompFreq is Weekly then multiply the value in CompTotal with 52 (weeks in an year)\n"
   ]
  },
  {
   "cell_type": "code",
   "execution_count": 20,
   "id": "cdf6d753",
   "metadata": {},
   "outputs": [
    {
     "data": {
      "text/html": [
       "<div>\n",
       "<style scoped>\n",
       "    .dataframe tbody tr th:only-of-type {\n",
       "        vertical-align: middle;\n",
       "    }\n",
       "\n",
       "    .dataframe tbody tr th {\n",
       "        vertical-align: top;\n",
       "    }\n",
       "\n",
       "    .dataframe thead th {\n",
       "        text-align: right;\n",
       "    }\n",
       "</style>\n",
       "<table border=\"1\" class=\"dataframe\">\n",
       "  <thead>\n",
       "    <tr style=\"text-align: right;\">\n",
       "      <th></th>\n",
       "      <th>count</th>\n",
       "    </tr>\n",
       "    <tr>\n",
       "      <th>CompFreq</th>\n",
       "      <th></th>\n",
       "    </tr>\n",
       "  </thead>\n",
       "  <tbody>\n",
       "    <tr>\n",
       "      <th>Yearly</th>\n",
       "      <td>6073</td>\n",
       "    </tr>\n",
       "    <tr>\n",
       "      <th>Monthly</th>\n",
       "      <td>4788</td>\n",
       "    </tr>\n",
       "    <tr>\n",
       "      <th>Weekly</th>\n",
       "      <td>331</td>\n",
       "    </tr>\n",
       "  </tbody>\n",
       "</table>\n",
       "</div>"
      ],
      "text/plain": [
       "          count\n",
       "CompFreq       \n",
       "Yearly     6073\n",
       "Monthly    4788\n",
       "Weekly      331"
      ]
     },
     "execution_count": 20,
     "metadata": {},
     "output_type": "execute_result"
    }
   ],
   "source": [
    "# List out the various categories in the column 'CompFreq'\n",
    "df['CompFreq'].value_counts().to_frame()"
   ]
  },
  {
   "cell_type": "code",
   "execution_count": 21,
   "id": "82beca5a",
   "metadata": {},
   "outputs": [
    {
     "data": {
      "text/html": [
       "<div>\n",
       "<style scoped>\n",
       "    .dataframe tbody tr th:only-of-type {\n",
       "        vertical-align: middle;\n",
       "    }\n",
       "\n",
       "    .dataframe tbody tr th {\n",
       "        vertical-align: top;\n",
       "    }\n",
       "\n",
       "    .dataframe thead th {\n",
       "        text-align: right;\n",
       "    }\n",
       "</style>\n",
       "<table border=\"1\" class=\"dataframe\">\n",
       "  <thead>\n",
       "    <tr style=\"text-align: right;\">\n",
       "      <th></th>\n",
       "      <th>CompTotal</th>\n",
       "      <th>CompFreq</th>\n",
       "      <th>NormalizedAnnualCompensation</th>\n",
       "    </tr>\n",
       "  </thead>\n",
       "  <tbody>\n",
       "    <tr>\n",
       "      <th>0</th>\n",
       "      <td>61000.0</td>\n",
       "      <td>Yearly</td>\n",
       "      <td>61000.0</td>\n",
       "    </tr>\n",
       "    <tr>\n",
       "      <th>1</th>\n",
       "      <td>138000.0</td>\n",
       "      <td>Yearly</td>\n",
       "      <td>138000.0</td>\n",
       "    </tr>\n",
       "    <tr>\n",
       "      <th>2</th>\n",
       "      <td>90000.0</td>\n",
       "      <td>Yearly</td>\n",
       "      <td>90000.0</td>\n",
       "    </tr>\n",
       "    <tr>\n",
       "      <th>3</th>\n",
       "      <td>29000.0</td>\n",
       "      <td>Monthly</td>\n",
       "      <td>348000.0</td>\n",
       "    </tr>\n",
       "    <tr>\n",
       "      <th>4</th>\n",
       "      <td>90000.0</td>\n",
       "      <td>Yearly</td>\n",
       "      <td>90000.0</td>\n",
       "    </tr>\n",
       "  </tbody>\n",
       "</table>\n",
       "</div>"
      ],
      "text/plain": [
       "   CompTotal CompFreq  NormalizedAnnualCompensation\n",
       "0    61000.0   Yearly                       61000.0\n",
       "1   138000.0   Yearly                      138000.0\n",
       "2    90000.0   Yearly                       90000.0\n",
       "3    29000.0  Monthly                      348000.0\n",
       "4    90000.0   Yearly                       90000.0"
      ]
     },
     "execution_count": 21,
     "metadata": {},
     "output_type": "execute_result"
    }
   ],
   "source": [
    "# Create 'NormalizedAnnualCompensation' column\n",
    "nac=[]\n",
    "for i in range(len(df)):\n",
    "    if df['CompFreq'].iloc[i]=='Weekly':\n",
    "        nac.append(df['CompTotal'].iloc[i]*52)\n",
    "    elif df['CompFreq'].iloc[i]=='Monthly':\n",
    "        nac.append(df['CompTotal'].iloc[i]*12)\n",
    "    else:\n",
    "        nac.append(df['CompTotal'].iloc[i]*1)\n",
    "        \n",
    "df['NormalizedAnnualCompensation']=nac\n",
    "df[['CompTotal', 'CompFreq', 'NormalizedAnnualCompensation']].head()\n",
    "        "
   ]
  },
  {
   "cell_type": "markdown",
   "id": "c86cdd08",
   "metadata": {},
   "source": [
    "### Exploratory Data Analysis:"
   ]
  },
  {
   "cell_type": "markdown",
   "id": "497d66db",
   "metadata": {},
   "source": [
    "In this section,we find out the distribution of data, presence of outliers and also determine the correlation between different columns in the dataset.\n",
    "\n",
    "Objectives:\n",
    "* Identify the distribution of data in the dataset.\n",
    "* Identify outliers in the dataset.\n",
    "* Remove outliers from the dataset.\n",
    "* Identify correlation between features in the dataset.\n",
    "    "
   ]
  },
  {
   "cell_type": "markdown",
   "id": "a4a2451f",
   "metadata": {},
   "source": [
    "The column **'ConvertedComp'** contains Salary converted to annual USD salaries using the exchange rate on 2019-02-01. This assumes 12 working months and 50 working weeks."
   ]
  },
  {
   "cell_type": "code",
   "execution_count": 22,
   "id": "b223cede",
   "metadata": {},
   "outputs": [
    {
     "name": "stdout",
     "output_type": "stream",
     "text": [
      "Requirement already satisfied: seaborn in c:\\users\\niman\\anaconda3\\lib\\site-packages (0.13.2)\n",
      "Requirement already satisfied: pandas in c:\\users\\niman\\anaconda3\\lib\\site-packages (2.2.2)\n",
      "Requirement already satisfied: numpy!=1.24.0,>=1.20 in c:\\users\\niman\\anaconda3\\lib\\site-packages (from seaborn) (1.24.3)\n",
      "Requirement already satisfied: matplotlib!=3.6.1,>=3.4 in c:\\users\\niman\\anaconda3\\lib\\site-packages (from seaborn) (3.9.2)\n",
      "Requirement already satisfied: python-dateutil>=2.8.2 in c:\\users\\niman\\anaconda3\\lib\\site-packages (from pandas) (2.8.2)\n",
      "Requirement already satisfied: pytz>=2020.1 in c:\\users\\niman\\anaconda3\\lib\\site-packages (from pandas) (2022.7)\n",
      "Requirement already satisfied: tzdata>=2022.7 in c:\\users\\niman\\anaconda3\\lib\\site-packages (from pandas) (2024.1)\n",
      "Requirement already satisfied: contourpy>=1.0.1 in c:\\users\\niman\\anaconda3\\lib\\site-packages (from matplotlib!=3.6.1,>=3.4->seaborn) (1.0.5)\n",
      "Requirement already satisfied: cycler>=0.10 in c:\\users\\niman\\anaconda3\\lib\\site-packages (from matplotlib!=3.6.1,>=3.4->seaborn) (0.11.0)\n",
      "Requirement already satisfied: fonttools>=4.22.0 in c:\\users\\niman\\anaconda3\\lib\\site-packages (from matplotlib!=3.6.1,>=3.4->seaborn) (4.25.0)\n",
      "Requirement already satisfied: kiwisolver>=1.3.1 in c:\\users\\niman\\anaconda3\\lib\\site-packages (from matplotlib!=3.6.1,>=3.4->seaborn) (1.4.4)\n",
      "Requirement already satisfied: packaging>=20.0 in c:\\users\\niman\\anaconda3\\lib\\site-packages (from matplotlib!=3.6.1,>=3.4->seaborn) (23.0)\n",
      "Requirement already satisfied: pillow>=8 in c:\\users\\niman\\anaconda3\\lib\\site-packages (from matplotlib!=3.6.1,>=3.4->seaborn) (9.4.0)\n",
      "Requirement already satisfied: pyparsing>=2.3.1 in c:\\users\\niman\\anaconda3\\lib\\site-packages (from matplotlib!=3.6.1,>=3.4->seaborn) (3.0.9)\n",
      "Requirement already satisfied: six>=1.5 in c:\\users\\niman\\anaconda3\\lib\\site-packages (from python-dateutil>=2.8.2->pandas) (1.16.0)\n",
      "Note: you may need to restart the kernel to use updated packages.\n"
     ]
    }
   ],
   "source": [
    "pip install --upgrade seaborn pandas\n"
   ]
  },
  {
   "cell_type": "code",
   "execution_count": 23,
   "id": "716384d0",
   "metadata": {},
   "outputs": [
    {
     "data": {
      "text/plain": [
       "<Figure size 500x300 with 0 Axes>"
      ]
     },
     "metadata": {},
     "output_type": "display_data"
    },
    {
     "data": {
      "image/png": "[encoded data removed]",
      "text/plain": [
       "<Figure size 500x500 with 1 Axes>"
      ]
     },
     "metadata": {},
     "output_type": "display_data"
    }
   ],
   "source": [
    "import matplotlib.pyplot as plt\n",
    "import seaborn as sns\n",
    "#plot distribution curve of 'ConvertedComp'\n",
    "plt.figure(figsize=(5,3))\n",
    "sns.displot(data=df,x='ConvertedComp',kind='kde')\n",
    "plt.show()"
   ]
  },
  {
   "cell_type": "code",
   "execution_count": 24,
   "id": "bf10a8af",
   "metadata": {},
   "outputs": [
    {
     "data": {
      "image/png": "[encoded data removed]",
      "text/plain": [
       "<Figure size 500x300 with 1 Axes>"
      ]
     },
     "metadata": {},
     "output_type": "display_data"
    }
   ],
   "source": [
    "# Plot the histogram of 'ConvertedComp'\n",
    "plt.figure(figsize=(5, 3))\n",
    "sns.histplot(data=df,x='ConvertedComp',bins=10,kde=False)\n",
    "plt.xlabel('Salary(in million USD)')\n",
    "plt.ylabel('Count')\n",
    "plt.title('Distribution of Salaries for IT Professionals')\n",
    "plt.show()"
   ]
  },
  {
   "cell_type": "code",
   "execution_count": 25,
   "id": "e7db5a7f",
   "metadata": {},
   "outputs": [
    {
     "data": {
      "text/plain": [
       "57745.0"
      ]
     },
     "execution_count": 25,
     "metadata": {},
     "output_type": "execute_result"
    }
   ],
   "source": [
    "# Find the median of  'ConvertedComp'\n",
    "df['ConvertedComp'].median()"
   ]
  },
  {
   "cell_type": "code",
   "execution_count": 26,
   "id": "1fca3e44",
   "metadata": {},
   "outputs": [
    {
     "data": {
      "text/html": [
       "<div>\n",
       "<style scoped>\n",
       "    .dataframe tbody tr th:only-of-type {\n",
       "        vertical-align: middle;\n",
       "    }\n",
       "\n",
       "    .dataframe tbody tr th {\n",
       "        vertical-align: top;\n",
       "    }\n",
       "\n",
       "    .dataframe thead th {\n",
       "        text-align: right;\n",
       "    }\n",
       "</style>\n",
       "<table border=\"1\" class=\"dataframe\">\n",
       "  <thead>\n",
       "    <tr style=\"text-align: right;\">\n",
       "      <th></th>\n",
       "      <th>count</th>\n",
       "    </tr>\n",
       "    <tr>\n",
       "      <th>Gender</th>\n",
       "      <th></th>\n",
       "    </tr>\n",
       "  </thead>\n",
       "  <tbody>\n",
       "    <tr>\n",
       "      <th>Man</th>\n",
       "      <td>10480</td>\n",
       "    </tr>\n",
       "    <tr>\n",
       "      <th>Woman</th>\n",
       "      <td>731</td>\n",
       "    </tr>\n",
       "    <tr>\n",
       "      <th>Non-binary, genderqueer, or gender non-conforming</th>\n",
       "      <td>63</td>\n",
       "    </tr>\n",
       "    <tr>\n",
       "      <th>Man;Non-binary, genderqueer, or gender non-conforming</th>\n",
       "      <td>26</td>\n",
       "    </tr>\n",
       "    <tr>\n",
       "      <th>Woman;Non-binary, genderqueer, or gender non-conforming</th>\n",
       "      <td>14</td>\n",
       "    </tr>\n",
       "    <tr>\n",
       "      <th>Woman;Man</th>\n",
       "      <td>9</td>\n",
       "    </tr>\n",
       "    <tr>\n",
       "      <th>Woman;Man;Non-binary, genderqueer, or gender non-conforming</th>\n",
       "      <td>2</td>\n",
       "    </tr>\n",
       "  </tbody>\n",
       "</table>\n",
       "</div>"
      ],
      "text/plain": [
       "                                                    count\n",
       "Gender                                                   \n",
       "Man                                                 10480\n",
       "Woman                                                 731\n",
       "Non-binary, genderqueer, or gender non-conforming      63\n",
       "Man;Non-binary, genderqueer, or gender non-conf...     26\n",
       "Woman;Non-binary, genderqueer, or gender non-co...     14\n",
       "Woman;Man                                               9\n",
       "Woman;Man;Non-binary, genderqueer, or gender no...      2"
      ]
     },
     "execution_count": 26,
     "metadata": {},
     "output_type": "execute_result"
    }
   ],
   "source": [
    "# Find how many responders identified themselves only as a Man\n",
    "df['Gender'].value_counts().to_frame()"
   ]
  },
  {
   "cell_type": "code",
   "execution_count": 27,
   "id": "53db3f93",
   "metadata": {},
   "outputs": [
    {
     "data": {
      "text/plain": [
       "57708.0"
      ]
     },
     "execution_count": 27,
     "metadata": {},
     "output_type": "execute_result"
    }
   ],
   "source": [
    "# Find  median 'ConvertedComp' of responders identified  as a Women\n",
    "df['ConvertedComp'][(df.Gender=='Woman')].median()"
   ]
  },
  {
   "cell_type": "code",
   "execution_count": 28,
   "id": "8906664a",
   "metadata": {},
   "outputs": [
    {
     "data": {
      "text/plain": [
       "count    11111.000000\n",
       "mean        30.778895\n",
       "std          7.393686\n",
       "min         16.000000\n",
       "25%         25.000000\n",
       "50%         29.000000\n",
       "75%         35.000000\n",
       "max         99.000000\n",
       "Name: Age, dtype: float64"
      ]
     },
     "execution_count": 28,
     "metadata": {},
     "output_type": "execute_result"
    }
   ],
   "source": [
    "# Summary of column 'Age'\n",
    "df['Age'].describe()"
   ]
  },
  {
   "cell_type": "code",
   "execution_count": 29,
   "id": "ecc08944",
   "metadata": {},
   "outputs": [
    {
     "data": {
      "text/plain": [
       "<Figure size 500x300 with 0 Axes>"
      ]
     },
     "metadata": {},
     "output_type": "display_data"
    },
    {
     "data": {
      "image/png": "[encoded data removed]",
      "text/plain": [
       "<Figure size 500x500 with 1 Axes>"
      ]
     },
     "metadata": {},
     "output_type": "display_data"
    }
   ],
   "source": [
    "# Plot a histogram of the column 'Age'\n",
    "plt.figure(figsize=(5,3))\n",
    "sns.displot(data=df,x='Age',bins=10,kind='hist')\n",
    "plt.show()"
   ]
  },
  {
   "cell_type": "markdown",
   "id": "c888d143",
   "metadata": {},
   "source": [
    "#### Indentifying Outliers:\n",
    "To identify outliers in the **'ConvertedComp'** column, a box plot is used."
   ]
  },
  {
   "cell_type": "code",
   "execution_count": 31,
   "id": "26408a77",
   "metadata": {},
   "outputs": [
    {
     "data": {
      "image/png": "[encoded data removed]",
      "text/plain": [
       "<Figure size 500x300 with 1 Axes>"
      ]
     },
     "metadata": {},
     "output_type": "display_data"
    }
   ],
   "source": [
    "plt.figure(figsize=(5,3))\n",
    "sns.boxplot(data=df, x='ConvertedComp')\n",
    "plt.xlabel('Frequency')\n",
    "plt.ylabel('Salary')\n",
    "plt.show()"
   ]
  },
  {
   "cell_type": "code",
   "execution_count": 32,
   "id": "d8b860af",
   "metadata": {},
   "outputs": [
    {
     "name": "stdout",
     "output_type": "stream",
     "text": [
      "Q1 (25th percentile): 26868.0\n",
      "Q3 (75th percentile): 100000.0\n",
      "Interquartile Range (IQR): 73132.0\n"
     ]
    }
   ],
   "source": [
    "# Calculate Interquartile Range (IQR)\n",
    "Q1 = df['ConvertedComp'].quantile(0.25)\n",
    "Q3 = df['ConvertedComp'].quantile(0.75)\n",
    "IQR = Q3 - Q1\n",
    "\n",
    "print(f\"Q1 (25th percentile): {Q1}\")\n",
    "print(f\"Q3 (75th percentile): {Q3}\")\n",
    "print(f\"Interquartile Range (IQR): {IQR}\")   "
   ]
  },
  {
   "cell_type": "code",
   "execution_count": 33,
   "id": "c8ab08c0",
   "metadata": {},
   "outputs": [
    {
     "name": "stdout",
     "output_type": "stream",
     "text": [
      "Number of outliers: 879\n",
      "Outliers:\n",
      "        Respondent                                         MainBranch Hobbyist  \\\n",
      "3              16                     I am a developer by profession      Yes   \n",
      "13             32                     I am a developer by profession       No   \n",
      "45            100                     I am a developer by profession      Yes   \n",
      "46            102                     I am a developer by profession       No   \n",
      "60            128  I am not primarily a developer, but I write co...      Yes   \n",
      "...           ...                                                ...      ...   \n",
      "11450       24915                     I am a developer by profession      Yes   \n",
      "11457       24931                     I am a developer by profession       No   \n",
      "11504       25036                     I am a developer by profession      Yes   \n",
      "11507       25047                     I am a developer by profession      Yes   \n",
      "11523       25086                     I am a developer by profession      Yes   \n",
      "\n",
      "                                             OpenSourcer  \\\n",
      "3                                                  Never   \n",
      "13                                                 Never   \n",
      "45                            Once a month or more often   \n",
      "46                                                 Never   \n",
      "60                            Once a month or more often   \n",
      "...                                                  ...   \n",
      "11450                                              Never   \n",
      "11457                            Less than once per year   \n",
      "11504                                              Never   \n",
      "11507  Less than once a month but more than once per ...   \n",
      "11523  Less than once a month but more than once per ...   \n",
      "\n",
      "                                              OpenSource          Employment  \\\n",
      "3      The quality of OSS and closed source software ...  Employed full-time   \n",
      "13     The quality of OSS and closed source software ...  Employed full-time   \n",
      "45     The quality of OSS and closed source software ...  Employed full-time   \n",
      "46     The quality of OSS and closed source software ...  Employed full-time   \n",
      "60     OSS is, on average, of HIGHER quality than pro...  Employed full-time   \n",
      "...                                                  ...                 ...   \n",
      "11450  OSS is, on average, of HIGHER quality than pro...  Employed full-time   \n",
      "11457  OSS is, on average, of HIGHER quality than pro...  Employed full-time   \n",
      "11504  The quality of OSS and closed source software ...  Employed full-time   \n",
      "11507  The quality of OSS and closed source software ...  Employed full-time   \n",
      "11523  The quality of OSS and closed source software ...  Employed full-time   \n",
      "\n",
      "              Country Student  \\\n",
      "3      United Kingdom      No   \n",
      "13      United States      No   \n",
      "45             Canada      No   \n",
      "46      United States      No   \n",
      "60     United Kingdom      No   \n",
      "...               ...     ...   \n",
      "11450   United States      No   \n",
      "11457     Switzerland      No   \n",
      "11504   United States      No   \n",
      "11507   United States      No   \n",
      "11523         Germany      No   \n",
      "\n",
      "                                                 EdLevel  \\\n",
      "3            Master’s degree (MA, MS, M.Eng., MBA, etc.)   \n",
      "13                                      Associate degree   \n",
      "45     Some college/university study without earning ...   \n",
      "46              Bachelor’s degree (BA, BS, B.Eng., etc.)   \n",
      "60              Bachelor’s degree (BA, BS, B.Eng., etc.)   \n",
      "...                                                  ...   \n",
      "11450        Master’s degree (MA, MS, M.Eng., MBA, etc.)   \n",
      "11457           Bachelor’s degree (BA, BS, B.Eng., etc.)   \n",
      "11504        Master’s degree (MA, MS, M.Eng., MBA, etc.)   \n",
      "11507        Master’s degree (MA, MS, M.Eng., MBA, etc.)   \n",
      "11523        Master’s degree (MA, MS, M.Eng., MBA, etc.)   \n",
      "\n",
      "                                          UndergradMajor  ...  \\\n",
      "3                                                    NaN  ...   \n",
      "13     Information systems, information technology, o...  ...   \n",
      "45     Computer science, computer engineering, or sof...  ...   \n",
      "46     Computer science, computer engineering, or sof...  ...   \n",
      "60     Computer science, computer engineering, or sof...  ...   \n",
      "...                                                  ...  ...   \n",
      "11450  Another engineering discipline (ex. civil, ele...  ...   \n",
      "11457  Computer science, computer engineering, or sof...  ...   \n",
      "11504  A business discipline (ex. accounting, finance...  ...   \n",
      "11507  Computer science, computer engineering, or sof...  ...   \n",
      "11523  Another engineering discipline (ex. civil, ele...  ...   \n",
      "\n",
      "                                            SONewContent   Age Gender Trans  \\\n",
      "3      Tech articles written by other developers;Indu...  26.0    Man    No   \n",
      "13     Tech articles written by other developers;Indu...  21.0    Man    No   \n",
      "45                                                   NaN  39.0  Woman    No   \n",
      "46     Tech articles written by other developers;Indu...  37.0    Man    No   \n",
      "60     Tech articles written by other developers;Indu...  30.0    Man    No   \n",
      "...                                                  ...   ...    ...   ...   \n",
      "11450  Tech meetups or events in your area;Courses on...  27.0    Man    No   \n",
      "11457  Tech articles written by other developers;Indu...  45.0    Man    No   \n",
      "11504                                                NaN  48.0    Man    No   \n",
      "11507                                                NaN  39.0    Man    No   \n",
      "11523  Tech meetups or events in your area;Courses on...  24.0    Man    No   \n",
      "\n",
      "                     Sexuality                     Ethnicity Dependents  \\\n",
      "3      Straight / Heterosexual  White or of European descent         No   \n",
      "13     Straight / Heterosexual  White or of European descent         No   \n",
      "45                    Bisexual  White or of European descent         No   \n",
      "46     Straight / Heterosexual  White or of European descent        Yes   \n",
      "60                    Bisexual  White or of European descent        Yes   \n",
      "...                        ...                           ...        ...   \n",
      "11450  Straight / Heterosexual  White or of European descent        Yes   \n",
      "11457  Straight / Heterosexual  White or of European descent        Yes   \n",
      "11504  Straight / Heterosexual  White or of European descent         No   \n",
      "11507  Straight / Heterosexual  White or of European descent        Yes   \n",
      "11523  Straight / Heterosexual  White or of European descent         No   \n",
      "\n",
      "                SurveyLength                  SurveyEase  \\\n",
      "3      Appropriate in length  Neither easy nor difficult   \n",
      "13     Appropriate in length  Neither easy nor difficult   \n",
      "45     Appropriate in length                        Easy   \n",
      "46                  Too long                        Easy   \n",
      "60                  Too long                        Easy   \n",
      "...                      ...                         ...   \n",
      "11450               Too long  Neither easy nor difficult   \n",
      "11457  Appropriate in length                        Easy   \n",
      "11504               Too long  Neither easy nor difficult   \n",
      "11507  Appropriate in length                        Easy   \n",
      "11523  Appropriate in length                        Easy   \n",
      "\n",
      "      NormalizedAnnualCompensation  \n",
      "3                         348000.0  \n",
      "13                       1144000.0  \n",
      "45                        300000.0  \n",
      "46                       3525600.0  \n",
      "60                       1272000.0  \n",
      "...                            ...  \n",
      "11450                     840000.0  \n",
      "11457                    1596000.0  \n",
      "11504                     300000.0  \n",
      "11507                     260000.0  \n",
      "11523                     612000.0  \n",
      "\n",
      "[879 rows x 86 columns]\n"
     ]
    }
   ],
   "source": [
    "# Define outlier bounds\n",
    "lower_bound = Q1 - 1.5 * IQR\n",
    "upper_bound = Q3 + 1.5 * IQR\n",
    "\n",
    "# Identify outliers\n",
    "outliers = df[(df['ConvertedComp'] < lower_bound) | (df['ConvertedComp'] > upper_bound)]\n",
    "\n",
    "# Number of outliers\n",
    "num_outliers = len(outliers)\n",
    "\n",
    "print(f\"Number of outliers: {num_outliers}\")\n",
    "print(\"Outliers:\\n\", outliers)"
   ]
  },
  {
   "cell_type": "code",
   "execution_count": 34,
   "id": "295b7f3a",
   "metadata": {},
   "outputs": [
    {
     "data": {
      "text/plain": [
       "(10519, 86)"
      ]
     },
     "execution_count": 34,
     "metadata": {},
     "output_type": "execute_result"
    }
   ],
   "source": [
    "# Create a new dataframe by removing the outliers from 'convertedComp'\n",
    "new_df = df[~(df[\"ConvertedComp\"] > (Q3 + 1.5 * IQR))]\n",
    "new_df.shape"
   ]
  },
  {
   "cell_type": "markdown",
   "id": "06ae9c28",
   "metadata": {},
   "source": [
    "#### Correlation:\n"
   ]
  },
  {
   "cell_type": "code",
   "execution_count": 35,
   "id": "6ed028dc",
   "metadata": {},
   "outputs": [
    {
     "data": {
      "text/html": [
       "<div>\n",
       "<style scoped>\n",
       "    .dataframe tbody tr th:only-of-type {\n",
       "        vertical-align: middle;\n",
       "    }\n",
       "\n",
       "    .dataframe tbody tr th {\n",
       "        vertical-align: top;\n",
       "    }\n",
       "\n",
       "    .dataframe thead th {\n",
       "        text-align: right;\n",
       "    }\n",
       "</style>\n",
       "<table border=\"1\" class=\"dataframe\">\n",
       "  <thead>\n",
       "    <tr style=\"text-align: right;\">\n",
       "      <th></th>\n",
       "      <th>Respondent</th>\n",
       "      <th>CompTotal</th>\n",
       "      <th>ConvertedComp</th>\n",
       "      <th>WorkWeekHrs</th>\n",
       "      <th>CodeRevHrs</th>\n",
       "      <th>Age</th>\n",
       "      <th>NormalizedAnnualCompensation</th>\n",
       "    </tr>\n",
       "  </thead>\n",
       "  <tbody>\n",
       "    <tr>\n",
       "      <th>Respondent</th>\n",
       "      <td>1.000000</td>\n",
       "      <td>-0.019364</td>\n",
       "      <td>0.010878</td>\n",
       "      <td>-0.015275</td>\n",
       "      <td>0.002980</td>\n",
       "      <td>0.003950</td>\n",
       "      <td>0.001307</td>\n",
       "    </tr>\n",
       "    <tr>\n",
       "      <th>CompTotal</th>\n",
       "      <td>-0.019364</td>\n",
       "      <td>1.000000</td>\n",
       "      <td>-0.063561</td>\n",
       "      <td>0.004975</td>\n",
       "      <td>0.017536</td>\n",
       "      <td>0.006371</td>\n",
       "      <td>0.703632</td>\n",
       "    </tr>\n",
       "    <tr>\n",
       "      <th>ConvertedComp</th>\n",
       "      <td>0.010878</td>\n",
       "      <td>-0.063561</td>\n",
       "      <td>1.000000</td>\n",
       "      <td>0.034351</td>\n",
       "      <td>-0.088934</td>\n",
       "      <td>0.401821</td>\n",
       "      <td>-0.086286</td>\n",
       "    </tr>\n",
       "    <tr>\n",
       "      <th>WorkWeekHrs</th>\n",
       "      <td>-0.015275</td>\n",
       "      <td>0.004975</td>\n",
       "      <td>0.034351</td>\n",
       "      <td>1.000000</td>\n",
       "      <td>0.031963</td>\n",
       "      <td>0.037452</td>\n",
       "      <td>0.009935</td>\n",
       "    </tr>\n",
       "    <tr>\n",
       "      <th>CodeRevHrs</th>\n",
       "      <td>0.002980</td>\n",
       "      <td>0.017536</td>\n",
       "      <td>-0.088934</td>\n",
       "      <td>0.031963</td>\n",
       "      <td>1.000000</td>\n",
       "      <td>-0.017961</td>\n",
       "      <td>0.038952</td>\n",
       "    </tr>\n",
       "    <tr>\n",
       "      <th>Age</th>\n",
       "      <td>0.003950</td>\n",
       "      <td>0.006371</td>\n",
       "      <td>0.401821</td>\n",
       "      <td>0.037452</td>\n",
       "      <td>-0.017961</td>\n",
       "      <td>1.000000</td>\n",
       "      <td>-0.016317</td>\n",
       "    </tr>\n",
       "    <tr>\n",
       "      <th>NormalizedAnnualCompensation</th>\n",
       "      <td>0.001307</td>\n",
       "      <td>0.703632</td>\n",
       "      <td>-0.086286</td>\n",
       "      <td>0.009935</td>\n",
       "      <td>0.038952</td>\n",
       "      <td>-0.016317</td>\n",
       "      <td>1.000000</td>\n",
       "    </tr>\n",
       "  </tbody>\n",
       "</table>\n",
       "</div>"
      ],
      "text/plain": [
       "                              Respondent  CompTotal  ConvertedComp  \\\n",
       "Respondent                      1.000000  -0.019364       0.010878   \n",
       "CompTotal                      -0.019364   1.000000      -0.063561   \n",
       "ConvertedComp                   0.010878  -0.063561       1.000000   \n",
       "WorkWeekHrs                    -0.015275   0.004975       0.034351   \n",
       "CodeRevHrs                      0.002980   0.017536      -0.088934   \n",
       "Age                             0.003950   0.006371       0.401821   \n",
       "NormalizedAnnualCompensation    0.001307   0.703632      -0.086286   \n",
       "\n",
       "                              WorkWeekHrs  CodeRevHrs       Age  \\\n",
       "Respondent                      -0.015275    0.002980  0.003950   \n",
       "CompTotal                        0.004975    0.017536  0.006371   \n",
       "ConvertedComp                    0.034351   -0.088934  0.401821   \n",
       "WorkWeekHrs                      1.000000    0.031963  0.037452   \n",
       "CodeRevHrs                       0.031963    1.000000 -0.017961   \n",
       "Age                              0.037452   -0.017961  1.000000   \n",
       "NormalizedAnnualCompensation     0.009935    0.038952 -0.016317   \n",
       "\n",
       "                              NormalizedAnnualCompensation  \n",
       "Respondent                                        0.001307  \n",
       "CompTotal                                         0.703632  \n",
       "ConvertedComp                                    -0.086286  \n",
       "WorkWeekHrs                                       0.009935  \n",
       "CodeRevHrs                                        0.038952  \n",
       "Age                                              -0.016317  \n",
       "NormalizedAnnualCompensation                      1.000000  "
      ]
     },
     "execution_count": 35,
     "metadata": {},
     "output_type": "execute_result"
    }
   ],
   "source": [
    "# Find the correlation between 'Age' and all other numerical columns in the new dataframe\n",
    "new_df.corr(numeric_only=True)"
   ]
  },
  {
   "cell_type": "markdown",
   "id": "67caeee6",
   "metadata": {},
   "source": [
    "### Data Visualization"
   ]
  },
  {
   "cell_type": "code",
   "execution_count": 36,
   "id": "8cbad681",
   "metadata": {},
   "outputs": [
    {
     "data": {
      "image/png": "[encoded data removed]",
      "text/plain": [
       "<Figure size 500x300 with 1 Axes>"
      ]
     },
     "metadata": {},
     "output_type": "display_data"
    }
   ],
   "source": [
    "# Create a scatter plot of 'Age' and 'WorkWeekHrs'\n",
    "plt.figure(figsize=(5,3))\n",
    "plt.scatter(new_df['Age'], new_df['WorkWeekHrs'], color='blue')\n",
    "\n",
    "# Add labels and title\n",
    "plt.xlabel('Age')\n",
    "plt.ylabel('WorkWeekHrs')\n",
    "plt.title('Work Hours Relative to Age')\n",
    "\n",
    "# Show the plot\n",
    "plt.show()\n"
   ]
  },
  {
   "cell_type": "code",
   "execution_count": 37,
   "id": "a2c25208",
   "metadata": {},
   "outputs": [
    {
     "data": {
      "image/png": "[encoded data removed]",
      "text/plain": [
       "<Figure size 640x480 with 1 Axes>"
      ]
     },
     "metadata": {},
     "output_type": "display_data"
    }
   ],
   "source": [
    "#Create a bubble plot of WorkWeekHrs and CodeRevHrs, use Age column as bubble size.\n",
    "new_df.plot( kind='scatter',x='WorkWeekHrs', y='CodeRevHrs',s='Age',alpha=0.5,sizes=(10, 100),color='blue')\n",
    "plt.title('WorkWeekHrs and CodeRevHrs By Age', size=14) \n",
    "plt.xlabel('WorkWeekHrs', size=10) \n",
    "plt.ylabel('CodeRevHrs', size=10)\n",
    "\n",
    "plt.show()"
   ]
  },
  {
   "cell_type": "code",
   "execution_count": 54,
   "id": "3ef1bed2",
   "metadata": {},
   "outputs": [
    {
     "data": {
      "text/plain": [
       "Text(0.5, 1.0, 'Median Hours by Age')"
      ]
     },
     "execution_count": 54,
     "metadata": {},
     "output_type": "execute_result"
    },
    {
     "data": {
      "image/png": "[encoded data removed]",
      "text/plain": [
       "<Figure size 1000x600 with 1 Axes>"
      ]
     },
     "metadata": {},
     "output_type": "display_data"
    }
   ],
   "source": [
    "#Create a stacked chart of median WorkWeekHrs and CodeRevHrs for the age group 30 to 35.\n",
    "df1=new_df[(new_df['Age']>=30) & (new_df['Age']<=35)][['WorkWeekHrs','CodeRevHrs','Age']]\n",
    "df1=df1.groupby('Age').median()\n",
    "df1.plot(kind='bar',stacked=True,color=['blue','orange'],figsize=(10,6))\n",
    "plt.title('Median Hours by Age')"
   ]
  },
  {
   "cell_type": "code",
   "execution_count": 59,
   "id": "b823da81",
   "metadata": {},
   "outputs": [
    {
     "data": {
      "image/png": "[encoded data removed]",
      "text/plain": [
       "<Figure size 640x480 with 1 Axes>"
      ]
     },
     "metadata": {},
     "output_type": "display_data"
    }
   ],
   "source": [
    "# Plot the median ConvertedComp for all ages from 45 to 60.\n",
    "df2=new_df[(new_df['Age']>=45) & (new_df['Age']<=60)][['Age', 'ConvertedComp']]\n",
    "df2=df2.groupby('Age')['ConvertedComp'].median()\n",
    "df2.plot(kind='line',color='darkblue')\n",
    "plt.title('Median Salary by for all ages from 45 to 60')\n",
    "plt.xlabel('Age')\n",
    "plt.ylabel('in million USD')\n",
    "plt.show()"
   ]
  },
  {
   "cell_type": "code",
   "execution_count": 62,
   "id": "8cbec645",
   "metadata": {},
   "outputs": [
    {
     "name": "stdout",
     "output_type": "stream",
     "text": [
      "MainBranch\n",
      "I am a developer by profession                                                   9808\n",
      "I am not primarily a developer, but I write code sometimes as part of my work     711\n",
      "dtype: int64\n"
     ]
    },
    {
     "data": {
      "image/png": "[encoded data removed]",
      "text/plain": [
       "<Figure size 800x600 with 1 Axes>"
      ]
     },
     "metadata": {},
     "output_type": "display_data"
    }
   ],
   "source": [
    "#Create a horizontal bar chart using column MainBranch.\n",
    "df3=new_df.groupby('MainBranch').size()\n",
    "df3.plot(kind='barh',color='c',figsize=(8, 6))\n",
    "print(df3)\n",
    "\n",
    "plt.show()"
   ]
  },
  {
   "cell_type": "code",
   "execution_count": 71,
   "id": "54ea15fd",
   "metadata": {},
   "outputs": [
    {
     "data": {
      "text/html": [
       "<div>\n",
       "<style scoped>\n",
       "    .dataframe tbody tr th:only-of-type {\n",
       "        vertical-align: middle;\n",
       "    }\n",
       "\n",
       "    .dataframe tbody tr th {\n",
       "        vertical-align: top;\n",
       "    }\n",
       "\n",
       "    .dataframe thead th {\n",
       "        text-align: right;\n",
       "    }\n",
       "</style>\n",
       "<table border=\"1\" class=\"dataframe\">\n",
       "  <thead>\n",
       "    <tr style=\"text-align: right;\">\n",
       "      <th></th>\n",
       "      <th>DatabaseDesireNextYear</th>\n",
       "    </tr>\n",
       "  </thead>\n",
       "  <tbody>\n",
       "    <tr>\n",
       "      <th>0</th>\n",
       "      <td>MySQL;SQLite</td>\n",
       "    </tr>\n",
       "    <tr>\n",
       "      <th>1</th>\n",
       "      <td>PostgreSQL;Redis;SQLite</td>\n",
       "    </tr>\n",
       "    <tr>\n",
       "      <th>2</th>\n",
       "      <td>Firebase;MySQL;Redis</td>\n",
       "    </tr>\n",
       "    <tr>\n",
       "      <th>4</th>\n",
       "      <td>Elasticsearch;Firebase;MongoDB;PostgreSQL</td>\n",
       "    </tr>\n",
       "    <tr>\n",
       "      <th>5</th>\n",
       "      <td>DynamoDB</td>\n",
       "    </tr>\n",
       "    <tr>\n",
       "      <th>...</th>\n",
       "      <td>...</td>\n",
       "    </tr>\n",
       "    <tr>\n",
       "      <th>11547</th>\n",
       "      <td>Microsoft SQL Server</td>\n",
       "    </tr>\n",
       "    <tr>\n",
       "      <th>11548</th>\n",
       "      <td>MariaDB;MongoDB;MySQL</td>\n",
       "    </tr>\n",
       "    <tr>\n",
       "      <th>11549</th>\n",
       "      <td>NaN</td>\n",
       "    </tr>\n",
       "    <tr>\n",
       "      <th>11550</th>\n",
       "      <td>Elasticsearch;MongoDB;Microsoft SQL Server;Redis</td>\n",
       "    </tr>\n",
       "    <tr>\n",
       "      <th>11551</th>\n",
       "      <td>PostgreSQL</td>\n",
       "    </tr>\n",
       "  </tbody>\n",
       "</table>\n",
       "<p>10519 rows × 1 columns</p>\n",
       "</div>"
      ],
      "text/plain": [
       "                                 DatabaseDesireNextYear\n",
       "0                                          MySQL;SQLite\n",
       "1                               PostgreSQL;Redis;SQLite\n",
       "2                                  Firebase;MySQL;Redis\n",
       "4             Elasticsearch;Firebase;MongoDB;PostgreSQL\n",
       "5                                              DynamoDB\n",
       "...                                                 ...\n",
       "11547                              Microsoft SQL Server\n",
       "11548                             MariaDB;MongoDB;MySQL\n",
       "11549                                               NaN\n",
       "11550  Elasticsearch;MongoDB;Microsoft SQL Server;Redis\n",
       "11551                                        PostgreSQL\n",
       "\n",
       "[10519 rows x 1 columns]"
      ]
     },
     "execution_count": 71,
     "metadata": {},
     "output_type": "execute_result"
    }
   ],
   "source": [
    "#Create a pie chart of the top 5 databases that respondents wish to learn next year\n",
    "new_df['DatabaseDesireNextYear'].to_frame()"
   ]
  },
  {
   "cell_type": "markdown",
   "id": "4050bfc3",
   "metadata": {},
   "source": [
    "Several respondents have provided multiple entries separated by semicolons. To include all entries in the tally, each data point with multiple entries needs to be split. A function was created to separate the semicolon-delimited data and add them to new rows."
   ]
  },
  {
   "cell_type": "code",
   "execution_count": 63,
   "id": "c1d5b0e9",
   "metadata": {},
   "outputs": [],
   "source": [
    "# data splitter function\n",
    "def split_and_create_row(data_frame, column):\n",
    "    values = data_frame[column].split(';')\n",
    "    return pd.Series(values)"
   ]
  },
  {
   "cell_type": "code",
   "execution_count": 64,
   "id": "c9334e67",
   "metadata": {},
   "outputs": [
    {
     "data": {
      "text/html": [
       "<div>\n",
       "<style scoped>\n",
       "    .dataframe tbody tr th:only-of-type {\n",
       "        vertical-align: middle;\n",
       "    }\n",
       "\n",
       "    .dataframe tbody tr th {\n",
       "        vertical-align: top;\n",
       "    }\n",
       "\n",
       "    .dataframe thead th {\n",
       "        text-align: right;\n",
       "    }\n",
       "</style>\n",
       "<table border=\"1\" class=\"dataframe\">\n",
       "  <thead>\n",
       "    <tr style=\"text-align: right;\">\n",
       "      <th></th>\n",
       "      <th>DatabaseDesireNextYear</th>\n",
       "    </tr>\n",
       "  </thead>\n",
       "  <tbody>\n",
       "    <tr>\n",
       "      <th>0</th>\n",
       "      <td>MySQL;SQLite</td>\n",
       "    </tr>\n",
       "    <tr>\n",
       "      <th>1</th>\n",
       "      <td>PostgreSQL;Redis;SQLite</td>\n",
       "    </tr>\n",
       "    <tr>\n",
       "      <th>2</th>\n",
       "      <td>Firebase;MySQL;Redis</td>\n",
       "    </tr>\n",
       "    <tr>\n",
       "      <th>4</th>\n",
       "      <td>Elasticsearch;Firebase;MongoDB;PostgreSQL</td>\n",
       "    </tr>\n",
       "    <tr>\n",
       "      <th>5</th>\n",
       "      <td>DynamoDB</td>\n",
       "    </tr>\n",
       "  </tbody>\n",
       "</table>\n",
       "</div>"
      ],
      "text/plain": [
       "                      DatabaseDesireNextYear\n",
       "0                               MySQL;SQLite\n",
       "1                    PostgreSQL;Redis;SQLite\n",
       "2                       Firebase;MySQL;Redis\n",
       "4  Elasticsearch;Firebase;MongoDB;PostgreSQL\n",
       "5                                   DynamoDB"
      ]
     },
     "execution_count": 64,
     "metadata": {},
     "output_type": "execute_result"
    }
   ],
   "source": [
    "df_1 = new_df['DatabaseDesireNextYear'].astype(str).to_frame()\n",
    "df_1.head()"
   ]
  },
  {
   "cell_type": "code",
   "execution_count": 69,
   "id": "ff1a74a4",
   "metadata": {},
   "outputs": [
    {
     "data": {
      "text/html": [
       "<div>\n",
       "<style scoped>\n",
       "    .dataframe tbody tr th:only-of-type {\n",
       "        vertical-align: middle;\n",
       "    }\n",
       "\n",
       "    .dataframe tbody tr th {\n",
       "        vertical-align: top;\n",
       "    }\n",
       "\n",
       "    .dataframe thead th {\n",
       "        text-align: right;\n",
       "    }\n",
       "</style>\n",
       "<table border=\"1\" class=\"dataframe\">\n",
       "  <thead>\n",
       "    <tr style=\"text-align: right;\">\n",
       "      <th></th>\n",
       "      <th>DatabaseDesireNextYear</th>\n",
       "    </tr>\n",
       "  </thead>\n",
       "  <tbody>\n",
       "    <tr>\n",
       "      <th>0</th>\n",
       "      <td>MySQL</td>\n",
       "    </tr>\n",
       "    <tr>\n",
       "      <th>1</th>\n",
       "      <td>SQLite</td>\n",
       "    </tr>\n",
       "    <tr>\n",
       "      <th>2</th>\n",
       "      <td>PostgreSQL</td>\n",
       "    </tr>\n",
       "    <tr>\n",
       "      <th>3</th>\n",
       "      <td>Redis</td>\n",
       "    </tr>\n",
       "    <tr>\n",
       "      <th>4</th>\n",
       "      <td>SQLite</td>\n",
       "    </tr>\n",
       "    <tr>\n",
       "      <th>...</th>\n",
       "      <td>...</td>\n",
       "    </tr>\n",
       "    <tr>\n",
       "      <th>28498</th>\n",
       "      <td>Elasticsearch</td>\n",
       "    </tr>\n",
       "    <tr>\n",
       "      <th>28499</th>\n",
       "      <td>MongoDB</td>\n",
       "    </tr>\n",
       "    <tr>\n",
       "      <th>28500</th>\n",
       "      <td>Microsoft SQL Server</td>\n",
       "    </tr>\n",
       "    <tr>\n",
       "      <th>28501</th>\n",
       "      <td>Redis</td>\n",
       "    </tr>\n",
       "    <tr>\n",
       "      <th>28502</th>\n",
       "      <td>PostgreSQL</td>\n",
       "    </tr>\n",
       "  </tbody>\n",
       "</table>\n",
       "<p>28503 rows × 1 columns</p>\n",
       "</div>"
      ],
      "text/plain": [
       "      DatabaseDesireNextYear\n",
       "0                      MySQL\n",
       "1                     SQLite\n",
       "2                 PostgreSQL\n",
       "3                      Redis\n",
       "4                     SQLite\n",
       "...                      ...\n",
       "28498          Elasticsearch\n",
       "28499                MongoDB\n",
       "28500   Microsoft SQL Server\n",
       "28501                  Redis\n",
       "28502             PostgreSQL\n",
       "\n",
       "[28503 rows x 1 columns]"
      ]
     },
     "execution_count": 69,
     "metadata": {},
     "output_type": "execute_result"
    }
   ],
   "source": [
    "# Apply the function to each row in df['DatabaseDesireNextYear']\n",
    "df_2 = df_1.apply(split_and_create_row, axis=1, args=('DatabaseDesireNextYear',)).stack().reset_index(level=1, drop=True).to_frame('DatabaseDesireNextYear')\n",
    "\n",
    "# Reset index\n",
    "df_2.reset_index(drop=True, inplace=True)\n",
    "df_2"
   ]
  },
  {
   "cell_type": "code",
   "execution_count": 72,
   "id": "c2e18652",
   "metadata": {},
   "outputs": [
    {
     "data": {
      "image/png": "[encoded data removed]",
      "text/plain": [
       "<Figure size 640x480 with 1 Axes>"
      ]
     },
     "metadata": {},
     "output_type": "display_data"
    }
   ],
   "source": [
    "# Count each entry\n",
    "df_3 = df_2.value_counts().to_frame()\n",
    "df_3.reset_index(inplace=True)\n",
    "top5_df = df_3.head(5)\n",
    "\n",
    "# Create pie chart\n",
    "fig, ax = plt.subplots()\n",
    "\n",
    "ax.pie(top5_df['count'], labels=top5_df['DatabaseDesireNextYear'],\n",
    "      colors = ['gold', 'yellowgreen', 'lightcoral', 'lightskyblue', 'lightgreen'],\n",
    "      autopct = '%1.1f%%') #set decimal point to 1\n",
    "plt.title('Top 5 Databases Developers Wish to Learn Next Year')\n",
    "ax.set_aspect('equal') #ensure pie is drawn as a circleMultiple plots and sub-plotting"
   ]
  },
  {
   "cell_type": "markdown",
   "id": "63a1606b",
   "metadata": {},
   "source": [
    "Thank you."
   ]
  }
 ],
 "metadata": {
  "kernelspec": {
   "display_name": "Python 3 (ipykernel)",
   "language": "python",
   "name": "python3"
  },
  "language_info": {
   "codemirror_mode": {
    "name": "ipython",
    "version": 3
   },
   "file_extension": ".py",
   "mimetype": "text/x-python",
   "name": "python",
   "nbconvert_exporter": "python",
   "pygments_lexer": "ipython3",
   "version": "3.11.4"
  }
 },
 "nbformat": 4,
 "nbformat_minor": 5
}
